{
 "cells": [
  {
   "cell_type": "code",
   "execution_count": 1,
   "metadata": {},
   "outputs": [
    {
     "name": "stderr",
     "output_type": "stream",
     "text": [
      "Using TensorFlow backend.\n"
     ]
    }
   ],
   "source": [
    "import keras\n",
    "import numpy as np\n",
    "from keras.layers import Dense, Conv2D, MaxPooling2D, Flatten, Activation, Dropout\n",
    "from keras.models import Sequential\n",
    "from keras.preprocessing.image import ImageDataGenerator"
   ]
  },
  {
   "cell_type": "code",
   "execution_count": 2,
   "metadata": {},
   "outputs": [
    {
     "name": "stdout",
     "output_type": "stream",
     "text": [
      "Found 15724 images belonging to 2 classes.\n"
     ]
    }
   ],
   "source": [
    "train_datgen = ImageDataGenerator(rescale=1./255,\n",
    "                           horizontal_flip=True,\n",
    "                           rotation_range=90,\n",
    "                           vertical_flip=True,\n",
    "                           shear_range=0.5)\n",
    "\n",
    "train_generator = train_datgen.flow_from_directory(\n",
    "    'data/train/',\n",
    "    target_size=(128,128),\n",
    "    batch_size=16,\n",
    "    class_mode='binary'\n",
    ")"
   ]
  },
  {
   "cell_type": "code",
   "execution_count": 3,
   "metadata": {},
   "outputs": [
    {
     "name": "stdout",
     "output_type": "stream",
     "text": [
      "Found 1964 images belonging to 2 classes.\n"
     ]
    }
   ],
   "source": [
    "test_datagen = ImageDataGenerator(\n",
    "                    rescale=1./255,\n",
    "                )\n",
    "\n",
    "test_generator = test_datagen.flow_from_directory(\n",
    "                            'data/validation/',\n",
    "                            class_mode='binary',\n",
    "                            target_size=(128,128),\n",
    "                            batch_size=16\n",
    "                        )"
   ]
  },
  {
   "cell_type": "code",
   "execution_count": 4,
   "metadata": {},
   "outputs": [
    {
     "name": "stdout",
     "output_type": "stream",
     "text": [
      "_________________________________________________________________\n",
      "Layer (type)                 Output Shape              Param #   \n",
      "=================================================================\n",
      "conv2d_1 (Conv2D)            (None, 126, 126, 32)      896       \n",
      "_________________________________________________________________\n",
      "activation_1 (Activation)    (None, 126, 126, 32)      0         \n",
      "_________________________________________________________________\n",
      "max_pooling2d_1 (MaxPooling2 (None, 63, 63, 32)        0         \n",
      "_________________________________________________________________\n",
      "conv2d_2 (Conv2D)            (None, 61, 61, 32)        9248      \n",
      "_________________________________________________________________\n",
      "activation_2 (Activation)    (None, 61, 61, 32)        0         \n",
      "_________________________________________________________________\n",
      "max_pooling2d_2 (MaxPooling2 (None, 30, 30, 32)        0         \n",
      "_________________________________________________________________\n",
      "conv2d_3 (Conv2D)            (None, 28, 28, 64)        18496     \n",
      "_________________________________________________________________\n",
      "activation_3 (Activation)    (None, 28, 28, 64)        0         \n",
      "_________________________________________________________________\n",
      "max_pooling2d_3 (MaxPooling2 (None, 14, 14, 64)        0         \n",
      "_________________________________________________________________\n",
      "flatten_1 (Flatten)          (None, 12544)             0         \n",
      "_________________________________________________________________\n",
      "dense_1 (Dense)              (None, 64)                802880    \n",
      "_________________________________________________________________\n",
      "activation_4 (Activation)    (None, 64)                0         \n",
      "_________________________________________________________________\n",
      "dropout_1 (Dropout)          (None, 64)                0         \n",
      "_________________________________________________________________\n",
      "dense_2 (Dense)              (None, 1)                 65        \n",
      "_________________________________________________________________\n",
      "activation_5 (Activation)    (None, 1)                 0         \n",
      "=================================================================\n",
      "Total params: 831,585\n",
      "Trainable params: 831,585\n",
      "Non-trainable params: 0\n",
      "_________________________________________________________________\n"
     ]
    }
   ],
   "source": [
    "model = Sequential()\n",
    "model.add(Conv2D(32,(3,3), input_shape=(128,128,3)))\n",
    "model.add(Activation('relu'))\n",
    "model.add(MaxPooling2D(pool_size=(2,2)))\n",
    "\n",
    "model.add(Conv2D(32,(3,3)))\n",
    "model.add(Activation('relu'))\n",
    "model.add(MaxPooling2D(pool_size=(2,2)))\n",
    "\n",
    "model.add(Conv2D(64,(3,3)))\n",
    "model.add(Activation('relu'))\n",
    "model.add(MaxPooling2D(pool_size=(2,2)))\n",
    "\n",
    "model.add(Flatten())\n",
    "model.add(Dense(64))\n",
    "model.add(Activation('relu'))\n",
    "model.add(Dropout(0.5))\n",
    "\n",
    "model.add(Dense(1))\n",
    "model.add(Activation('sigmoid'))\n",
    "\n",
    "model.summary()"
   ]
  },
  {
   "cell_type": "code",
   "execution_count": 5,
   "metadata": {},
   "outputs": [],
   "source": [
    "model.compile(loss='binary_crossentropy',\n",
    "             optimizer='rmsprop',\n",
    "             metrics=['accuracy'])"
   ]
  },
  {
   "cell_type": "code",
   "execution_count": 6,
   "metadata": {},
   "outputs": [
    {
     "name": "stdout",
     "output_type": "stream",
     "text": [
      "Epoch 1/30\n",
      "  86/2048 [>.............................] - ETA: 8:20 - loss: 0.7063 - acc: 0.5189"
     ]
    },
    {
     "name": "stderr",
     "output_type": "stream",
     "text": [
      "/home/aman/projects/deep-learning/tensorflow/lib/python3.6/site-packages/PIL/TiffImagePlugin.py:725: UserWarning: Possibly corrupt EXIF data.  Expecting to read 2818048 bytes but only got 0. Skipping tag 0\n",
      "  \" Skipping tag %s\" % (size, len(data), tag))\n",
      "/home/aman/projects/deep-learning/tensorflow/lib/python3.6/site-packages/PIL/TiffImagePlugin.py:742: UserWarning: Corrupt EXIF data.  Expecting to read 12 bytes but only got 11. \n",
      "  warnings.warn(str(msg))\n"
     ]
    },
    {
     "name": "stdout",
     "output_type": "stream",
     "text": [
      " 137/2048 [=>............................] - ETA: 6:59 - loss: 0.6997 - acc: 0.5304"
     ]
    },
    {
     "name": "stderr",
     "output_type": "stream",
     "text": [
      "/home/aman/projects/deep-learning/tensorflow/lib/python3.6/site-packages/PIL/TiffImagePlugin.py:742: UserWarning: Corrupt EXIF data.  Expecting to read 2 bytes but only got 0. \n",
      "  warnings.warn(str(msg))\n"
     ]
    },
    {
     "name": "stdout",
     "output_type": "stream",
     "text": [
      " 282/2048 [===>..........................] - ETA: 5:29 - loss: 0.6914 - acc: 0.5553"
     ]
    },
    {
     "name": "stderr",
     "output_type": "stream",
     "text": [
      "/home/aman/projects/deep-learning/tensorflow/lib/python3.6/site-packages/PIL/TiffImagePlugin.py:725: UserWarning: Possibly corrupt EXIF data.  Expecting to read 8589934590 bytes but only got 37573. Skipping tag 34855\n",
      "  \" Skipping tag %s\" % (size, len(data), tag))\n"
     ]
    },
    {
     "name": "stdout",
     "output_type": "stream",
     "text": [
      " 655/2048 [========>.....................] - ETA: 4:01 - loss: 0.6893 - acc: 0.5566"
     ]
    },
    {
     "name": "stderr",
     "output_type": "stream",
     "text": [
      "/home/aman/projects/deep-learning/tensorflow/lib/python3.6/site-packages/PIL/TiffImagePlugin.py:725: UserWarning: Possibly corrupt EXIF data.  Expecting to read 1114112 bytes but only got 0. Skipping tag 0\n",
      "  \" Skipping tag %s\" % (size, len(data), tag))\n"
     ]
    },
    {
     "name": "stdout",
     "output_type": "stream",
     "text": [
      " 744/2048 [=========>....................] - ETA: 3:43 - loss: 0.6880 - acc: 0.5561"
     ]
    },
    {
     "name": "stderr",
     "output_type": "stream",
     "text": [
      "/home/aman/projects/deep-learning/tensorflow/lib/python3.6/site-packages/PIL/TiffImagePlugin.py:725: UserWarning: Possibly corrupt EXIF data.  Expecting to read 3473408 bytes but only got 0. Skipping tag 0\n",
      "  \" Skipping tag %s\" % (size, len(data), tag))\n"
     ]
    },
    {
     "name": "stdout",
     "output_type": "stream",
     "text": [
      " 849/2048 [===========>..................] - ETA: 3:24 - loss: 0.6875 - acc: 0.5569"
     ]
    },
    {
     "name": "stderr",
     "output_type": "stream",
     "text": [
      "/home/aman/projects/deep-learning/tensorflow/lib/python3.6/site-packages/PIL/TiffImagePlugin.py:725: UserWarning: Possibly corrupt EXIF data.  Expecting to read 8589934590 bytes but only got 28996. Skipping tag 34855\n",
      "  \" Skipping tag %s\" % (size, len(data), tag))\n"
     ]
    },
    {
     "name": "stdout",
     "output_type": "stream",
     "text": [
      " 983/2048 [=============>................] - ETA: 3:10 - loss: 0.6863 - acc: 0.5612 - val_loss: 0.0000e+00 - val_acc: 0.0000e+00Epoch 2/30\n",
      " 983/2048 [=============>................] - ETA: 54s - loss: 0.6782 - acc: 0.5948 - val_loss: 0.0000e+00 - val_acc: 0.0000e+00Epoch 3/30\n",
      " 983/2048 [=============>................] - ETA: 51s - loss: 0.6690 - acc: 0.6000 - val_loss: 0.0000e+00 - val_acc: 0.0000e+00Epoch 4/30\n",
      " 983/2048 [=============>................] - ETA: 51s - loss: 0.6688 - acc: 0.6007 - val_loss: 0.0000e+00 - val_acc: 0.0000e+00Epoch 5/30\n",
      " 983/2048 [=============>................] - ETA: 1:00 - loss: 0.6680 - acc: 0.6056 - val_loss: 0.0000e+00 - val_acc: 0.0000e+00Epoch 6/30\n",
      " 983/2048 [=============>................] - ETA: 58s - loss: 0.6636 - acc: 0.6104 - val_loss: 0.0000e+00 - val_acc: 0.0000e+00Epoch 7/30\n",
      " 983/2048 [=============>................] - ETA: 57s - loss: 0.6686 - acc: 0.6117 - val_loss: 0.0000e+00 - val_acc: 0.0000e+00Epoch 8/30\n",
      " 983/2048 [=============>................] - ETA: 1:01 - loss: 0.6580 - acc: 0.6157 - val_loss: 0.0000e+00 - val_acc: 0.0000e+00Epoch 9/30\n",
      " 983/2048 [=============>................] - ETA: 1:04 - loss: 0.6597 - acc: 0.6184 - val_loss: 0.0000e+00 - val_acc: 0.0000e+00Epoch 10/30\n",
      " 983/2048 [=============>................] - ETA: 1:04 - loss: 0.6586 - acc: 0.6200 - val_loss: 0.0000e+00 - val_acc: 0.0000e+00Epoch 11/30\n",
      " 983/2048 [=============>................] - ETA: 1:01 - loss: 0.6560 - acc: 0.6214 - val_loss: 0.0000e+00 - val_acc: 0.0000e+00Epoch 12/30\n",
      " 983/2048 [=============>................] - ETA: 1:01 - loss: 0.6565 - acc: 0.6193 - val_loss: 0.0000e+00 - val_acc: 0.0000e+00Epoch 13/30\n",
      " 983/2048 [=============>................] - ETA: 59s - loss: 0.6537 - acc: 0.6243 - val_loss: 0.0000e+00 - val_acc: 0.0000e+00Epoch 14/30\n",
      " 983/2048 [=============>................] - ETA: 50s - loss: 0.6530 - acc: 0.6236 - val_loss: 0.0000e+00 - val_acc: 0.0000e+00Epoch 15/30\n",
      " 983/2048 [=============>................] - ETA: 50s - loss: 0.6492 - acc: 0.6274 - val_loss: 0.0000e+00 - val_acc: 0.0000e+00Epoch 16/30\n",
      " 983/2048 [=============>................] - ETA: 49s - loss: 0.6514 - acc: 0.6298 - val_loss: 0.0000e+00 - val_acc: 0.0000e+00Epoch 17/30\n",
      " 983/2048 [=============>................] - ETA: 49s - loss: 0.6521 - acc: 0.6266 - val_loss: 0.0000e+00 - val_acc: 0.0000e+00Epoch 18/30\n",
      " 983/2048 [=============>................] - ETA: 49s - loss: 0.6530 - acc: 0.6258 - val_loss: 0.0000e+00 - val_acc: 0.0000e+00Epoch 19/30\n",
      " 983/2048 [=============>................] - ETA: 49s - loss: 0.6498 - acc: 0.6304 - val_loss: 0.0000e+00 - val_acc: 0.0000e+00Epoch 20/30\n",
      " 983/2048 [=============>................] - ETA: 50s - loss: 0.6495 - acc: 0.6314 - val_loss: 0.0000e+00 - val_acc: 0.0000e+00Epoch 21/30\n",
      " 983/2048 [=============>................] - ETA: 49s - loss: 0.6467 - acc: 0.6326 - val_loss: 0.0000e+00 - val_acc: 0.0000e+00Epoch 22/30\n",
      " 983/2048 [=============>................] - ETA: 49s - loss: 0.6476 - acc: 0.6368 - val_loss: 0.0000e+00 - val_acc: 0.0000e+00Epoch 23/30\n",
      " 983/2048 [=============>................] - ETA: 49s - loss: 0.6502 - acc: 0.6346 - val_loss: 0.0000e+00 - val_acc: 0.0000e+00Epoch 24/30\n",
      " 983/2048 [=============>................] - ETA: 49s - loss: 0.6516 - acc: 0.6385 - val_loss: 0.0000e+00 - val_acc: 0.0000e+00Epoch 25/30\n",
      " 983/2048 [=============>................] - ETA: 52s - loss: 0.6501 - acc: 0.6369 - val_loss: 0.0000e+00 - val_acc: 0.0000e+00Epoch 26/30\n",
      " 983/2048 [=============>................] - ETA: 49s - loss: 0.6517 - acc: 0.6377 - val_loss: 0.0000e+00 - val_acc: 0.0000e+00Epoch 27/30\n",
      " 983/2048 [=============>................] - ETA: 50s - loss: 0.6565 - acc: 0.6215 - val_loss: 0.0000e+00 - val_acc: 0.0000e+00Epoch 28/30\n",
      " 983/2048 [=============>................] - ETA: 50s - loss: 0.6570 - acc: 0.6230 - val_loss: 0.0000e+00 - val_acc: 0.0000e+00Epoch 29/30\n",
      " 983/2048 [=============>................] - ETA: 51s - loss: 0.6596 - acc: 0.6261 - val_loss: 0.0000e+00 - val_acc: 0.0000e+00Epoch 30/30\n",
      " 983/2048 [=============>................] - ETA: 58s - loss: 0.6581 - acc: 0.6295 - val_loss: 0.0000e+00 - val_acc: 0.0000e+00"
     ]
    }
   ],
   "source": [
    "model.fit_generator(train_generator,\n",
    "                   steps_per_epoch=2048,\n",
    "                   epochs=30,\n",
    "                   validation_data=test_generator,\n",
    "                   validation_steps=832)\n",
    "model.save_weights('models/keras_CNN.h5')"
   ]
  },
  {
   "cell_type": "code",
   "execution_count": null,
   "metadata": {},
   "outputs": [],
   "source": []
  }
 ],
 "metadata": {
  "kernelspec": {
   "display_name": "Python 3",
   "language": "python",
   "name": "python3"
  },
  "language_info": {
   "codemirror_mode": {
    "name": "ipython",
    "version": 3
   },
   "file_extension": ".py",
   "mimetype": "text/x-python",
   "name": "python",
   "nbconvert_exporter": "python",
   "pygments_lexer": "ipython3",
   "version": "3.6.3"
  }
 },
 "nbformat": 4,
 "nbformat_minor": 2
}
